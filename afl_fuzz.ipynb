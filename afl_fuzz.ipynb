{
  "nbformat": 4,
  "nbformat_minor": 0,
  "metadata": {
    "colab": {
      "provenance": []
    },
    "kernelspec": {
      "name": "python3",
      "display_name": "Python 3"
    },
    "language_info": {
      "name": "python"
    }
  },
  "cells": [
    {
      "cell_type": "code",
      "execution_count": null,
      "metadata": {
        "id": "XA23r08jjYU6"
      },
      "outputs": [],
      "source": [
        "!git clone https://github.com/mboehme/aflfast"
      ]
    },
    {
      "cell_type": "code",
      "source": [
        "!cd aflfast && make && make install"
      ],
      "metadata": {
        "id": "DBeCNCU4kAYJ"
      },
      "execution_count": null,
      "outputs": []
    },
    {
      "cell_type": "code",
      "source": [
        "!git clone https://github.com/mykter/afl-training"
      ],
      "metadata": {
        "id": "rqPqet4WkDZe"
      },
      "execution_count": null,
      "outputs": []
    },
    {
      "cell_type": "code",
      "source": [
        "!cd afl-training/quickstart && CC=afl-clang make"
      ],
      "metadata": {
        "id": "-FCWDSqpmXm5"
      },
      "execution_count": null,
      "outputs": []
    },
    {
      "cell_type": "code",
      "source": [
        "!cd afl-training/quickstart &&  stty columns 100 rows 100 && AFL_I_DONT_CARE_ABOUT_MISSING_CRASHES=ON afl-fuzz -i inputs -o out ./vulnerable\n"
      ],
      "metadata": {
        "id": "aA5ZdNwSnIuy"
      },
      "execution_count": null,
      "outputs": []
    },
    {
      "cell_type": "code",
      "source": [
        "! cd afl-training/quickstart/out/crashes && for i in $(ls); do echo $i; cat $i; done"
      ],
      "metadata": {
        "id": "JyAJPnHzrnPB"
      },
      "execution_count": null,
      "outputs": []
    }
  ]
}